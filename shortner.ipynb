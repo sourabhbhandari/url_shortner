{
 "cells": [
  {
   "cell_type": "code",
   "execution_count": 27,
   "metadata": {},
   "outputs": [
    {
     "name": "stdout",
     "output_type": "stream",
     "text": [
      "https://sourabh.in/P9Cmq\n",
      "https://hexacode.com/hackeahiuybujkawnejlhikwaxwe68748erwcewawerfsdgsg\n"
     ]
    }
   ],
   "source": [
    "import random\n",
    "import string \n",
    "\n",
    "#Constants\n",
    "random.randint(10,20)\n",
    "letters_lower = string.ascii_lowercase\n",
    "letter_upper = string.ascii_uppercase\n",
    "digits = string.digits\n",
    "options = letters_lower+letter_upper+digits\n",
    "\n",
    "# URL Database\n",
    "URL_DB = {}\n",
    "\n",
    "def get_short_url(url):\n",
    "    \n",
    "    l = random.randint(4,6)\n",
    "    short_url = \"https://sourabh.in/\"\n",
    "    \n",
    "    for i in range(l):\n",
    "        short_url += random.choice(options)\n",
    "        \n",
    "    if URL_DB.get(short_url) is not None:\n",
    "        return get_short_url(url)\n",
    "    \n",
    "    else:\n",
    "        URL_DB[short_url] = url\n",
    "    \n",
    "    \n",
    "    return short_url\n",
    "\n",
    "\n",
    "def get_long_url(short_url):\n",
    "    if URL_DB.get(short_url) is None:\n",
    "        return \"URL doesn't exist.\"\n",
    "    else:\n",
    "        return URL_DB[short_url]\n",
    "    \n",
    "    \n",
    "my_url = \"https://hexacode.com/hackeahiuybujkawnejlhikwaxwe68748erwcewawerfsdgsg\"\n",
    "tmp = get_short_url(my_url)\n",
    "print(p)\n",
    "short_url = tmp\n",
    "print(get_long_url(short_url))\n"
   ]
  },
  {
   "cell_type": "code",
   "execution_count": null,
   "metadata": {},
   "outputs": [],
   "source": []
  }
 ],
 "metadata": {
  "kernelspec": {
   "display_name": "Python 3",
   "language": "python",
   "name": "python3"
  },
  "language_info": {
   "codemirror_mode": {
    "name": "ipython",
    "version": 3
   },
   "file_extension": ".py",
   "mimetype": "text/x-python",
   "name": "python",
   "nbconvert_exporter": "python",
   "pygments_lexer": "ipython3",
   "version": "3.7.3"
  }
 },
 "nbformat": 4,
 "nbformat_minor": 2
}
